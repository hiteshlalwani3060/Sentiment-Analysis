{
 "cells": [
  {
   "cell_type": "code",
   "execution_count": 147,
   "id": "e8476aae",
   "metadata": {},
   "outputs": [],
   "source": [
    "# importing nessary modules\n",
    "import pandas as pd\n",
    "import numpy as np\n"
   ]
  },
  {
   "cell_type": "code",
   "execution_count": 176,
   "id": "fd4fe30a",
   "metadata": {},
   "outputs": [
    {
     "data": {
      "text/html": [
       "<div>\n",
       "<style scoped>\n",
       "    .dataframe tbody tr th:only-of-type {\n",
       "        vertical-align: middle;\n",
       "    }\n",
       "\n",
       "    .dataframe tbody tr th {\n",
       "        vertical-align: top;\n",
       "    }\n",
       "\n",
       "    .dataframe thead th {\n",
       "        text-align: right;\n",
       "    }\n",
       "</style>\n",
       "<table border=\"1\" class=\"dataframe\">\n",
       "  <thead>\n",
       "    <tr style=\"text-align: right;\">\n",
       "      <th></th>\n",
       "      <th>Rate</th>\n",
       "      <th>Review</th>\n",
       "      <th>Summary</th>\n",
       "      <th>Sentiment</th>\n",
       "    </tr>\n",
       "  </thead>\n",
       "  <tbody>\n",
       "    <tr>\n",
       "      <th>0</th>\n",
       "      <td>4</td>\n",
       "      <td>pretty good</td>\n",
       "      <td>awsm</td>\n",
       "      <td>positive</td>\n",
       "    </tr>\n",
       "    <tr>\n",
       "      <th>1</th>\n",
       "      <td>5</td>\n",
       "      <td>simply awesome</td>\n",
       "      <td>nice product and hd picture</td>\n",
       "      <td>positive</td>\n",
       "    </tr>\n",
       "    <tr>\n",
       "      <th>2</th>\n",
       "      <td>5</td>\n",
       "      <td>worth every penny</td>\n",
       "      <td>super</td>\n",
       "      <td>positive</td>\n",
       "    </tr>\n",
       "    <tr>\n",
       "      <th>3</th>\n",
       "      <td>4</td>\n",
       "      <td>pretty good</td>\n",
       "      <td>good product nice price i</td>\n",
       "      <td>positive</td>\n",
       "    </tr>\n",
       "    <tr>\n",
       "      <th>4</th>\n",
       "      <td>5</td>\n",
       "      <td>terrific</td>\n",
       "      <td>good</td>\n",
       "      <td>positive</td>\n",
       "    </tr>\n",
       "    <tr>\n",
       "      <th>...</th>\n",
       "      <td>...</td>\n",
       "      <td>...</td>\n",
       "      <td>...</td>\n",
       "      <td>...</td>\n",
       "    </tr>\n",
       "    <tr>\n",
       "      <th>99995</th>\n",
       "      <td>2</td>\n",
       "      <td>expected a better product</td>\n",
       "      <td>not smooth and comfortable to use</td>\n",
       "      <td>negative</td>\n",
       "    </tr>\n",
       "    <tr>\n",
       "      <th>99996</th>\n",
       "      <td>5</td>\n",
       "      <td>fabulous!</td>\n",
       "      <td>it s really value for money</td>\n",
       "      <td>positive</td>\n",
       "    </tr>\n",
       "    <tr>\n",
       "      <th>99997</th>\n",
       "      <td>5</td>\n",
       "      <td>great product</td>\n",
       "      <td>nice</td>\n",
       "      <td>positive</td>\n",
       "    </tr>\n",
       "    <tr>\n",
       "      <th>99998</th>\n",
       "      <td>5</td>\n",
       "      <td>not specified</td>\n",
       "      <td>very good product</td>\n",
       "      <td>positive</td>\n",
       "    </tr>\n",
       "    <tr>\n",
       "      <th>99999</th>\n",
       "      <td>3</td>\n",
       "      <td>nice</td>\n",
       "      <td>size is small in comparison to other cones sme...</td>\n",
       "      <td>positive</td>\n",
       "    </tr>\n",
       "  </tbody>\n",
       "</table>\n",
       "<p>100000 rows × 4 columns</p>\n",
       "</div>"
      ],
      "text/plain": [
       "      Rate                     Review  \\\n",
       "0        4                pretty good   \n",
       "1        5             simply awesome   \n",
       "2        5          worth every penny   \n",
       "3        4                pretty good   \n",
       "4        5                   terrific   \n",
       "...    ...                        ...   \n",
       "99995    2  expected a better product   \n",
       "99996    5                  fabulous!   \n",
       "99997    5              great product   \n",
       "99998    5              not specified   \n",
       "99999    3                       nice   \n",
       "\n",
       "                                                 Summary Sentiment  \n",
       "0                                                   awsm  positive  \n",
       "1                            nice product and hd picture  positive  \n",
       "2                                                  super  positive  \n",
       "3                              good product nice price i  positive  \n",
       "4                                                   good  positive  \n",
       "...                                                  ...       ...  \n",
       "99995                  not smooth and comfortable to use  negative  \n",
       "99996                        it s really value for money  positive  \n",
       "99997                                               nice  positive  \n",
       "99998                                  very good product  positive  \n",
       "99999  size is small in comparison to other cones sme...  positive  \n",
       "\n",
       "[100000 rows x 4 columns]"
      ]
     },
     "execution_count": 176,
     "metadata": {},
     "output_type": "execute_result"
    }
   ],
   "source": [
    "# reading the csv\n",
    "df = pd.read_csv('flipkart_rating_review.csv')\n",
    "df"
   ]
  },
  {
   "cell_type": "code",
   "execution_count": 3,
   "id": "2d6668fe",
   "metadata": {},
   "outputs": [
    {
     "data": {
      "text/plain": [
       "0"
      ]
     },
     "execution_count": 3,
     "metadata": {},
     "output_type": "execute_result"
    }
   ],
   "source": [
    "df['Rate'].isnull().sum()"
   ]
  },
  {
   "cell_type": "code",
   "execution_count": 4,
   "id": "a242cd36",
   "metadata": {},
   "outputs": [
    {
     "data": {
      "text/plain": [
       "0"
      ]
     },
     "execution_count": 4,
     "metadata": {},
     "output_type": "execute_result"
    }
   ],
   "source": [
    "df['Review'].isnull().sum()"
   ]
  },
  {
   "cell_type": "code",
   "execution_count": 5,
   "id": "0de91ea9",
   "metadata": {},
   "outputs": [
    {
     "data": {
      "text/plain": [
       "0"
      ]
     },
     "execution_count": 5,
     "metadata": {},
     "output_type": "execute_result"
    }
   ],
   "source": [
    "df['Summary'].isnull().sum()"
   ]
  },
  {
   "cell_type": "code",
   "execution_count": 6,
   "id": "03abb25b",
   "metadata": {},
   "outputs": [
    {
     "data": {
      "text/plain": [
       "0"
      ]
     },
     "execution_count": 6,
     "metadata": {},
     "output_type": "execute_result"
    }
   ],
   "source": [
    "df['Sentiment'].isnull().sum()"
   ]
  },
  {
   "cell_type": "code",
   "execution_count": 3,
   "id": "964d80cf",
   "metadata": {},
   "outputs": [
    {
     "data": {
      "text/plain": [
       "'size is small in comparison to other cones smell is good'"
      ]
     },
     "execution_count": 3,
     "metadata": {},
     "output_type": "execute_result"
    }
   ],
   "source": [
    "df['Summary'][99999]"
   ]
  },
  {
   "cell_type": "code",
   "execution_count": 178,
   "id": "0afde63e",
   "metadata": {},
   "outputs": [
    {
     "data": {
      "text/plain": [
       "Rate\n",
       "5                                                                    58478\n",
       "4                                                                    20595\n",
       "1                                                                    10059\n",
       "3                                                                     7775\n",
       "2                                                                     3090\n",
       "Nova Plus Amaze NI 10 1100 W Dry Iron?ÃÂ¿?ÃÂ¿(Grey & Turquoise)        1\n",
       "Bajaj DX 2 L/W Dry Iron                                                  1\n",
       "Pigeon Favourite Electric Kettle??????(1.5 L, Silver, Black)             1\n",
       "Name: count, dtype: int64"
      ]
     },
     "execution_count": 178,
     "metadata": {},
     "output_type": "execute_result"
    }
   ],
   "source": [
    "# founded a error in the rate column\n",
    "df['Rate'].value_counts()"
   ]
  },
  {
   "cell_type": "code",
   "execution_count": 179,
   "id": "10e5f181",
   "metadata": {},
   "outputs": [],
   "source": [
    "# removing the unnessary values from the rate column "
   ]
  },
  {
   "cell_type": "code",
   "execution_count": 198,
   "id": "f2fe7650",
   "metadata": {},
   "outputs": [],
   "source": [
    "df.drop(df[df['Rate']== \"Nova Plus Amaze NI 10 1100 W Dry Iron?ÃÂ¿?ÃÂ¿(Grey & Turquoise)\"].index, inplace=True)"
   ]
  },
  {
   "cell_type": "code",
   "execution_count": 199,
   "id": "678d1ad0",
   "metadata": {},
   "outputs": [],
   "source": [
    "df.drop(df[df['Rate']==\"Bajaj DX 2 L/W Dry Iron\"].index, inplace= True)"
   ]
  },
  {
   "cell_type": "code",
   "execution_count": 200,
   "id": "46bb5b55",
   "metadata": {},
   "outputs": [],
   "source": [
    "df.drop(df[df['Rate']==\"Pigeon Favourite Electric Kettle??????(1.5 L, Silver, Black)\"].index, inplace= True)"
   ]
  },
  {
   "cell_type": "code",
   "execution_count": 201,
   "id": "41c00121",
   "metadata": {},
   "outputs": [
    {
     "data": {
      "text/plain": [
       "Rate\n",
       "5    58478\n",
       "4    20595\n",
       "1    10059\n",
       "3     7775\n",
       "2     3090\n",
       "Name: count, dtype: int64"
      ]
     },
     "execution_count": 201,
     "metadata": {},
     "output_type": "execute_result"
    }
   ],
   "source": [
    "df['Rate'].value_counts()"
   ]
  },
  {
   "cell_type": "code",
   "execution_count": 202,
   "id": "8f0e915e",
   "metadata": {},
   "outputs": [],
   "source": [
    "df['Rate']= df['Rate'].astype(int)"
   ]
  },
  {
   "cell_type": "code",
   "execution_count": 9,
   "id": "82d324ce",
   "metadata": {},
   "outputs": [
    {
     "data": {
      "text/plain": [
       "0        4\n",
       "1        5\n",
       "2        5\n",
       "3        4\n",
       "4        5\n",
       "        ..\n",
       "99995    2\n",
       "99996    5\n",
       "99997    5\n",
       "99998    5\n",
       "99999    3\n",
       "Name: Rate, Length: 99997, dtype: int32"
      ]
     },
     "execution_count": 9,
     "metadata": {},
     "output_type": "execute_result"
    }
   ],
   "source": [
    "df['Rate']"
   ]
  },
  {
   "cell_type": "code",
   "execution_count": 10,
   "id": "f68048c9",
   "metadata": {},
   "outputs": [
    {
     "data": {
      "text/html": [
       "<div>\n",
       "<style scoped>\n",
       "    .dataframe tbody tr th:only-of-type {\n",
       "        vertical-align: middle;\n",
       "    }\n",
       "\n",
       "    .dataframe tbody tr th {\n",
       "        vertical-align: top;\n",
       "    }\n",
       "\n",
       "    .dataframe thead th {\n",
       "        text-align: right;\n",
       "    }\n",
       "</style>\n",
       "<table border=\"1\" class=\"dataframe\">\n",
       "  <thead>\n",
       "    <tr style=\"text-align: right;\">\n",
       "      <th></th>\n",
       "      <th>Rate</th>\n",
       "      <th>Review</th>\n",
       "      <th>Summary</th>\n",
       "      <th>Sentiment</th>\n",
       "    </tr>\n",
       "  </thead>\n",
       "  <tbody>\n",
       "    <tr>\n",
       "      <th>11</th>\n",
       "      <td>1</td>\n",
       "      <td>unsatisfactory</td>\n",
       "      <td>worst experience with flipkart</td>\n",
       "      <td>negative</td>\n",
       "    </tr>\n",
       "    <tr>\n",
       "      <th>23</th>\n",
       "      <td>1</td>\n",
       "      <td>low quality</td>\n",
       "      <td>low quality and it broken in 1 day</td>\n",
       "      <td>negative</td>\n",
       "    </tr>\n",
       "    <tr>\n",
       "      <th>25</th>\n",
       "      <td>1</td>\n",
       "      <td>don't waste your money</td>\n",
       "      <td>worst product very low pressure flow of water ...</td>\n",
       "      <td>negative</td>\n",
       "    </tr>\n",
       "    <tr>\n",
       "      <th>36</th>\n",
       "      <td>1</td>\n",
       "      <td>waste of money!</td>\n",
       "      <td>poor</td>\n",
       "      <td>negative</td>\n",
       "    </tr>\n",
       "    <tr>\n",
       "      <th>47</th>\n",
       "      <td>2</td>\n",
       "      <td>moderate</td>\n",
       "      <td>it broke within month</td>\n",
       "      <td>negative</td>\n",
       "    </tr>\n",
       "    <tr>\n",
       "      <th>...</th>\n",
       "      <td>...</td>\n",
       "      <td>...</td>\n",
       "      <td>...</td>\n",
       "      <td>...</td>\n",
       "    </tr>\n",
       "    <tr>\n",
       "      <th>99974</th>\n",
       "      <td>3</td>\n",
       "      <td>does the job</td>\n",
       "      <td>filmsy bad deal</td>\n",
       "      <td>negative</td>\n",
       "    </tr>\n",
       "    <tr>\n",
       "      <th>99975</th>\n",
       "      <td>1</td>\n",
       "      <td>worst experience ever!</td>\n",
       "      <td>worst body broken</td>\n",
       "      <td>negative</td>\n",
       "    </tr>\n",
       "    <tr>\n",
       "      <th>99983</th>\n",
       "      <td>1</td>\n",
       "      <td>useless product</td>\n",
       "      <td>very poor materials last rate 300only</td>\n",
       "      <td>negative</td>\n",
       "    </tr>\n",
       "    <tr>\n",
       "      <th>99987</th>\n",
       "      <td>1</td>\n",
       "      <td>utterly disappointed</td>\n",
       "      <td>this product is worst product in bajaj flipkar...</td>\n",
       "      <td>negative</td>\n",
       "    </tr>\n",
       "    <tr>\n",
       "      <th>99995</th>\n",
       "      <td>2</td>\n",
       "      <td>expected a better product</td>\n",
       "      <td>not smooth and comfortable to use</td>\n",
       "      <td>negative</td>\n",
       "    </tr>\n",
       "  </tbody>\n",
       "</table>\n",
       "<p>13491 rows × 4 columns</p>\n",
       "</div>"
      ],
      "text/plain": [
       "       Rate                     Review  \\\n",
       "11        1             unsatisfactory   \n",
       "23        1                low quality   \n",
       "25        1     don't waste your money   \n",
       "36        1            waste of money!   \n",
       "47        2                   moderate   \n",
       "...     ...                        ...   \n",
       "99974     3               does the job   \n",
       "99975     1     worst experience ever!   \n",
       "99983     1            useless product   \n",
       "99987     1       utterly disappointed   \n",
       "99995     2  expected a better product   \n",
       "\n",
       "                                                 Summary Sentiment  \n",
       "11                        worst experience with flipkart  negative  \n",
       "23                    low quality and it broken in 1 day  negative  \n",
       "25     worst product very low pressure flow of water ...  negative  \n",
       "36                                                  poor  negative  \n",
       "47                                 it broke within month  negative  \n",
       "...                                                  ...       ...  \n",
       "99974                                    filmsy bad deal  negative  \n",
       "99975                                  worst body broken  negative  \n",
       "99983              very poor materials last rate 300only  negative  \n",
       "99987  this product is worst product in bajaj flipkar...  negative  \n",
       "99995                  not smooth and comfortable to use  negative  \n",
       "\n",
       "[13491 rows x 4 columns]"
      ]
     },
     "execution_count": 10,
     "metadata": {},
     "output_type": "execute_result"
    }
   ],
   "source": [
    "df[df['Sentiment']==\"negative\"]"
   ]
  },
  {
   "cell_type": "code",
   "execution_count": 184,
   "id": "91aeaa50",
   "metadata": {},
   "outputs": [
    {
     "data": {
      "text/html": [
       "<div>\n",
       "<style scoped>\n",
       "    .dataframe tbody tr th:only-of-type {\n",
       "        vertical-align: middle;\n",
       "    }\n",
       "\n",
       "    .dataframe tbody tr th {\n",
       "        vertical-align: top;\n",
       "    }\n",
       "\n",
       "    .dataframe thead th {\n",
       "        text-align: right;\n",
       "    }\n",
       "</style>\n",
       "<table border=\"1\" class=\"dataframe\">\n",
       "  <thead>\n",
       "    <tr style=\"text-align: right;\">\n",
       "      <th></th>\n",
       "      <th>Rate</th>\n",
       "      <th>Review</th>\n",
       "      <th>Summary</th>\n",
       "      <th>Sentiment</th>\n",
       "      <th>Sentiment_label</th>\n",
       "    </tr>\n",
       "  </thead>\n",
       "  <tbody>\n",
       "    <tr>\n",
       "      <th>0</th>\n",
       "      <td>4</td>\n",
       "      <td>pretty good</td>\n",
       "      <td>awsm</td>\n",
       "      <td>positive</td>\n",
       "      <td>2</td>\n",
       "    </tr>\n",
       "    <tr>\n",
       "      <th>1</th>\n",
       "      <td>5</td>\n",
       "      <td>simply awesome</td>\n",
       "      <td>nice product and hd picture</td>\n",
       "      <td>positive</td>\n",
       "      <td>2</td>\n",
       "    </tr>\n",
       "    <tr>\n",
       "      <th>2</th>\n",
       "      <td>5</td>\n",
       "      <td>worth every penny</td>\n",
       "      <td>super</td>\n",
       "      <td>positive</td>\n",
       "      <td>2</td>\n",
       "    </tr>\n",
       "    <tr>\n",
       "      <th>3</th>\n",
       "      <td>4</td>\n",
       "      <td>pretty good</td>\n",
       "      <td>good product nice price i</td>\n",
       "      <td>positive</td>\n",
       "      <td>2</td>\n",
       "    </tr>\n",
       "    <tr>\n",
       "      <th>4</th>\n",
       "      <td>5</td>\n",
       "      <td>terrific</td>\n",
       "      <td>good</td>\n",
       "      <td>positive</td>\n",
       "      <td>2</td>\n",
       "    </tr>\n",
       "    <tr>\n",
       "      <th>...</th>\n",
       "      <td>...</td>\n",
       "      <td>...</td>\n",
       "      <td>...</td>\n",
       "      <td>...</td>\n",
       "      <td>...</td>\n",
       "    </tr>\n",
       "    <tr>\n",
       "      <th>99995</th>\n",
       "      <td>2</td>\n",
       "      <td>expected a better product</td>\n",
       "      <td>not smooth and comfortable to use</td>\n",
       "      <td>negative</td>\n",
       "      <td>0</td>\n",
       "    </tr>\n",
       "    <tr>\n",
       "      <th>99996</th>\n",
       "      <td>5</td>\n",
       "      <td>fabulous!</td>\n",
       "      <td>it s really value for money</td>\n",
       "      <td>positive</td>\n",
       "      <td>2</td>\n",
       "    </tr>\n",
       "    <tr>\n",
       "      <th>99997</th>\n",
       "      <td>5</td>\n",
       "      <td>great product</td>\n",
       "      <td>nice</td>\n",
       "      <td>positive</td>\n",
       "      <td>2</td>\n",
       "    </tr>\n",
       "    <tr>\n",
       "      <th>99998</th>\n",
       "      <td>5</td>\n",
       "      <td>not specified</td>\n",
       "      <td>very good product</td>\n",
       "      <td>positive</td>\n",
       "      <td>2</td>\n",
       "    </tr>\n",
       "    <tr>\n",
       "      <th>99999</th>\n",
       "      <td>3</td>\n",
       "      <td>nice</td>\n",
       "      <td>size is small in comparison to other cones sme...</td>\n",
       "      <td>positive</td>\n",
       "      <td>2</td>\n",
       "    </tr>\n",
       "  </tbody>\n",
       "</table>\n",
       "<p>99997 rows × 5 columns</p>\n",
       "</div>"
      ],
      "text/plain": [
       "      Rate                     Review  \\\n",
       "0        4                pretty good   \n",
       "1        5             simply awesome   \n",
       "2        5          worth every penny   \n",
       "3        4                pretty good   \n",
       "4        5                   terrific   \n",
       "...    ...                        ...   \n",
       "99995    2  expected a better product   \n",
       "99996    5                  fabulous!   \n",
       "99997    5              great product   \n",
       "99998    5              not specified   \n",
       "99999    3                       nice   \n",
       "\n",
       "                                                 Summary Sentiment  \\\n",
       "0                                                   awsm  positive   \n",
       "1                            nice product and hd picture  positive   \n",
       "2                                                  super  positive   \n",
       "3                              good product nice price i  positive   \n",
       "4                                                   good  positive   \n",
       "...                                                  ...       ...   \n",
       "99995                  not smooth and comfortable to use  negative   \n",
       "99996                        it s really value for money  positive   \n",
       "99997                                               nice  positive   \n",
       "99998                                  very good product  positive   \n",
       "99999  size is small in comparison to other cones sme...  positive   \n",
       "\n",
       "       Sentiment_label  \n",
       "0                    2  \n",
       "1                    2  \n",
       "2                    2  \n",
       "3                    2  \n",
       "4                    2  \n",
       "...                ...  \n",
       "99995                0  \n",
       "99996                2  \n",
       "99997                2  \n",
       "99998                2  \n",
       "99999                2  \n",
       "\n",
       "[99997 rows x 5 columns]"
      ]
     },
     "execution_count": 184,
     "metadata": {},
     "output_type": "execute_result"
    }
   ],
   "source": [
    "# encoding the sentiment label using labelEncoder\n",
    "from sklearn.preprocessing import LabelEncoder\n",
    "lb = LabelEncoder()\n",
    "df['Sentiment_label'] = lb.fit_transform(df['Sentiment'])\n",
    "df"
   ]
  },
  {
   "cell_type": "code",
   "execution_count": 12,
   "id": "f3f8768d",
   "metadata": {},
   "outputs": [
    {
     "data": {
      "text/plain": [
       "3.3273104880581514"
      ]
     },
     "execution_count": 12,
     "metadata": {},
     "output_type": "execute_result"
    }
   ],
   "source": [
    "T = df[df['Sentiment_label']==1]\n",
    "T['Rate'].mean()"
   ]
  },
  {
   "cell_type": "code",
   "execution_count": 151,
   "id": "90c4ccbb",
   "metadata": {},
   "outputs": [],
   "source": [
    "import matplotlib.pyplot as plt\n",
    "import seaborn as sns"
   ]
  },
  {
   "cell_type": "code",
   "execution_count": 152,
   "id": "31e54bd6",
   "metadata": {},
   "outputs": [],
   "source": [
    "# \n",
    "temp_df = df.loc[0:3000]"
   ]
  },
  {
   "cell_type": "code",
   "execution_count": 153,
   "id": "016a13ff",
   "metadata": {},
   "outputs": [
    {
     "data": {
      "text/html": [
       "<div>\n",
       "<style scoped>\n",
       "    .dataframe tbody tr th:only-of-type {\n",
       "        vertical-align: middle;\n",
       "    }\n",
       "\n",
       "    .dataframe tbody tr th {\n",
       "        vertical-align: top;\n",
       "    }\n",
       "\n",
       "    .dataframe thead th {\n",
       "        text-align: right;\n",
       "    }\n",
       "</style>\n",
       "<table border=\"1\" class=\"dataframe\">\n",
       "  <thead>\n",
       "    <tr style=\"text-align: right;\">\n",
       "      <th></th>\n",
       "      <th>Rate</th>\n",
       "      <th>Review</th>\n",
       "      <th>Summary</th>\n",
       "      <th>Sentiment</th>\n",
       "    </tr>\n",
       "  </thead>\n",
       "  <tbody>\n",
       "    <tr>\n",
       "      <th>0</th>\n",
       "      <td>4</td>\n",
       "      <td>pretty good</td>\n",
       "      <td>awsm</td>\n",
       "      <td>positive</td>\n",
       "    </tr>\n",
       "    <tr>\n",
       "      <th>1</th>\n",
       "      <td>5</td>\n",
       "      <td>simply awesome</td>\n",
       "      <td>nice product and hd picture</td>\n",
       "      <td>positive</td>\n",
       "    </tr>\n",
       "    <tr>\n",
       "      <th>2</th>\n",
       "      <td>5</td>\n",
       "      <td>worth every penny</td>\n",
       "      <td>super</td>\n",
       "      <td>positive</td>\n",
       "    </tr>\n",
       "    <tr>\n",
       "      <th>3</th>\n",
       "      <td>4</td>\n",
       "      <td>pretty good</td>\n",
       "      <td>good product nice price i</td>\n",
       "      <td>positive</td>\n",
       "    </tr>\n",
       "    <tr>\n",
       "      <th>4</th>\n",
       "      <td>5</td>\n",
       "      <td>terrific</td>\n",
       "      <td>good</td>\n",
       "      <td>positive</td>\n",
       "    </tr>\n",
       "    <tr>\n",
       "      <th>...</th>\n",
       "      <td>...</td>\n",
       "      <td>...</td>\n",
       "      <td>...</td>\n",
       "      <td>...</td>\n",
       "    </tr>\n",
       "    <tr>\n",
       "      <th>2996</th>\n",
       "      <td>4</td>\n",
       "      <td>really nice</td>\n",
       "      <td>wow its cool</td>\n",
       "      <td>positive</td>\n",
       "    </tr>\n",
       "    <tr>\n",
       "      <th>2997</th>\n",
       "      <td>5</td>\n",
       "      <td>mind-blowing purchase</td>\n",
       "      <td>good tv</td>\n",
       "      <td>positive</td>\n",
       "    </tr>\n",
       "    <tr>\n",
       "      <th>2998</th>\n",
       "      <td>5</td>\n",
       "      <td>brilliant</td>\n",
       "      <td>it is very good and good pages easily to read ...</td>\n",
       "      <td>positive</td>\n",
       "    </tr>\n",
       "    <tr>\n",
       "      <th>2999</th>\n",
       "      <td>4</td>\n",
       "      <td>good quality product</td>\n",
       "      <td>functioning good all bottoms are working properly</td>\n",
       "      <td>positive</td>\n",
       "    </tr>\n",
       "    <tr>\n",
       "      <th>3000</th>\n",
       "      <td>4</td>\n",
       "      <td>nice product</td>\n",
       "      <td>good experience till date</td>\n",
       "      <td>positive</td>\n",
       "    </tr>\n",
       "  </tbody>\n",
       "</table>\n",
       "<p>3001 rows × 4 columns</p>\n",
       "</div>"
      ],
      "text/plain": [
       "     Rate                 Review  \\\n",
       "0       4            pretty good   \n",
       "1       5         simply awesome   \n",
       "2       5      worth every penny   \n",
       "3       4            pretty good   \n",
       "4       5               terrific   \n",
       "...   ...                    ...   \n",
       "2996    4            really nice   \n",
       "2997    5  mind-blowing purchase   \n",
       "2998    5              brilliant   \n",
       "2999    4   good quality product   \n",
       "3000    4           nice product   \n",
       "\n",
       "                                                Summary Sentiment  \n",
       "0                                                  awsm  positive  \n",
       "1                           nice product and hd picture  positive  \n",
       "2                                                 super  positive  \n",
       "3                             good product nice price i  positive  \n",
       "4                                                  good  positive  \n",
       "...                                                 ...       ...  \n",
       "2996                                       wow its cool  positive  \n",
       "2997                                            good tv  positive  \n",
       "2998  it is very good and good pages easily to read ...  positive  \n",
       "2999  functioning good all bottoms are working properly  positive  \n",
       "3000                          good experience till date  positive  \n",
       "\n",
       "[3001 rows x 4 columns]"
      ]
     },
     "execution_count": 153,
     "metadata": {},
     "output_type": "execute_result"
    }
   ],
   "source": [
    "temp_df"
   ]
  },
  {
   "cell_type": "code",
   "execution_count": 189,
   "id": "6cf0538f",
   "metadata": {},
   "outputs": [],
   "source": [
    "total = df['Sentiment'].count()"
   ]
  },
  {
   "cell_type": "code",
   "execution_count": null,
   "id": "9bd97ca9",
   "metadata": {},
   "outputs": [],
   "source": []
  },
  {
   "cell_type": "code",
   "execution_count": 190,
   "id": "d97242a6",
   "metadata": {},
   "outputs": [
    {
     "data": {
      "text/plain": [
       "Rate               81691\n",
       "Review             81691\n",
       "Summary            81691\n",
       "Sentiment          81691\n",
       "Sentiment_label    81691\n",
       "dtype: int64"
      ]
     },
     "execution_count": 190,
     "metadata": {},
     "output_type": "execute_result"
    }
   ],
   "source": [
    "df_pos = df[df['Sentiment']==\"positive\"].count()\n",
    "df_pos"
   ]
  },
  {
   "cell_type": "code",
   "execution_count": 170,
   "id": "20145617",
   "metadata": {},
   "outputs": [],
   "source": []
  },
  {
   "cell_type": "code",
   "execution_count": 191,
   "id": "a931f0c4",
   "metadata": {},
   "outputs": [],
   "source": [
    "df_neg = df[df['Sentiment']=='negative'].count()[0]"
   ]
  },
  {
   "cell_type": "code",
   "execution_count": 192,
   "id": "4c538ef1",
   "metadata": {},
   "outputs": [],
   "source": [
    "df_neu = df[df['Sentiment']=='neutral'].count()[0]"
   ]
  },
  {
   "cell_type": "code",
   "execution_count": 193,
   "id": "e06b740b",
   "metadata": {},
   "outputs": [
    {
     "data": {
      "text/plain": [
       "81.6934508035241"
      ]
     },
     "execution_count": 193,
     "metadata": {},
     "output_type": "execute_result"
    }
   ],
   "source": [
    "# calculating the percentage of positve labels\n",
    "pos_percentage = (df_pos[0]/total)*100\n",
    "pos_percentage"
   ]
  },
  {
   "cell_type": "code",
   "execution_count": 79,
   "id": "79755bd0",
   "metadata": {},
   "outputs": [],
   "source": []
  },
  {
   "cell_type": "code",
   "execution_count": 194,
   "id": "290f0c97",
   "metadata": {},
   "outputs": [
    {
     "data": {
      "text/plain": [
       "13.491404742142265"
      ]
     },
     "execution_count": 194,
     "metadata": {},
     "output_type": "execute_result"
    }
   ],
   "source": [
    "# calculating the percentage of negative labels\n",
    "neg_percentage = (df_neg/total)*100\n",
    "neg_percentage"
   ]
  },
  {
   "cell_type": "code",
   "execution_count": 195,
   "id": "cc8e6d60",
   "metadata": {},
   "outputs": [
    {
     "data": {
      "text/plain": [
       "4.81514445433363"
      ]
     },
     "execution_count": 195,
     "metadata": {},
     "output_type": "execute_result"
    }
   ],
   "source": [
    "# calculating the percentage of neutral labels\n",
    "neu_percentage= (df_neu/total)*100\n",
    "neu_percentage"
   ]
  },
  {
   "cell_type": "code",
   "execution_count": 99,
   "id": "da510cca",
   "metadata": {},
   "outputs": [],
   "source": []
  },
  {
   "cell_type": "code",
   "execution_count": 196,
   "id": "a42a4e21",
   "metadata": {},
   "outputs": [
    {
     "data": {
      "image/png": "[encoded data removed]",
      "text/plain": [
       "<Figure size 640x480 with 1 Axes>"
      ]
     },
     "metadata": {},
     "output_type": "display_data"
    }
   ],
   "source": [
    "percentages = {'Positive': pos_percentage, 'Negative': neg_percentage, 'Neutral': neu_percentage}\n",
    "plt.bar(percentages.keys(), percentages.values(), color= ['red', 'brown', 'green'])\n",
    "plt.title(\"Distribution of Sentiment Lables\")\n",
    "plt.show()"
   ]
  },
  {
   "cell_type": "code",
   "execution_count": 109,
   "id": "ca55845e",
   "metadata": {},
   "outputs": [
    {
     "data": {
      "image/png": "[encoded data removed]",
      "text/plain": [
       "<Figure size 640x480 with 1 Axes>"
      ]
     },
     "metadata": {},
     "output_type": "display_data"
    }
   ],
   "source": [
    "plt.pie([pos_percentage, neg_percentage, neu_percentage], labels= ['Postive', 'Negative', 'Neutral'])\n",
    "plt.show()"
   ]
  },
  {
   "cell_type": "code",
   "execution_count": 205,
   "id": "03697820",
   "metadata": {},
   "outputs": [
    {
     "data": {
      "image/png": "[encoded data removed]",
      "text/plain": [
       "<Figure size 640x480 with 1 Axes>"
      ]
     },
     "metadata": {},
     "output_type": "display_data"
    }
   ],
   "source": [
    "sns.barplot(x= 'Sentiment', y= 'Rate', data = df, hue = 'Sentiment')\n",
    "plt.title('Average Sentiments with respect to Rate')\n",
    "plt.show()"
   ]
  },
  {
   "cell_type": "code",
   "execution_count": 121,
   "id": "46e9e1da",
   "metadata": {},
   "outputs": [],
   "source": [
    "rate = df[df['Sentiment']==\"negative\"]"
   ]
  },
  {
   "cell_type": "code",
   "execution_count": 15,
   "id": "f1474508",
   "metadata": {},
   "outputs": [
    {
     "data": {
      "text/plain": [
       "Rate\n",
       "5    58478\n",
       "4    20595\n",
       "1    10059\n",
       "3     7775\n",
       "2     3090\n",
       "Name: count, dtype: int64"
      ]
     },
     "execution_count": 15,
     "metadata": {},
     "output_type": "execute_result"
    }
   ],
   "source": [
    "df['Rate'].value_counts()"
   ]
  },
  {
   "cell_type": "markdown",
   "id": "886f1c9c",
   "metadata": {},
   "source": [
    "## Preparing the Model "
   ]
  },
  {
   "cell_type": "code",
   "execution_count": 13,
   "id": "2aca435d",
   "metadata": {},
   "outputs": [],
   "source": [
    "# removing the stop words\n",
    "import spacy"
   ]
  },
  {
   "cell_type": "code",
   "execution_count": 14,
   "id": "5e5784e2",
   "metadata": {},
   "outputs": [],
   "source": [
    "nlp = spacy.load('en_core_web_sm')"
   ]
  },
  {
   "cell_type": "code",
   "execution_count": 15,
   "id": "e087ca8c",
   "metadata": {},
   "outputs": [
    {
     "data": {
      "text/plain": [
       "'There is a pen on the table'"
      ]
     },
     "execution_count": 15,
     "metadata": {},
     "output_type": "execute_result"
    }
   ],
   "source": [
    "text = \"There is a pen on the table\"\n",
    "doc = nlp(text)\n",
    "doc.text"
   ]
  },
  {
   "cell_type": "code",
   "execution_count": 16,
   "id": "33becda7",
   "metadata": {},
   "outputs": [
    {
     "name": "stdout",
     "output_type": "stream",
     "text": [
      "There\n",
      "is\n",
      "a\n",
      "on\n",
      "the\n"
     ]
    }
   ],
   "source": [
    "# trying before implementation\n",
    "for i in nlp(text):\n",
    "    if i.is_stop:\n",
    "        print(i)"
   ]
  },
  {
   "cell_type": "code",
   "execution_count": 17,
   "id": "b9804153",
   "metadata": {},
   "outputs": [],
   "source": [
    "# using nlp.pipe() for faster implementation\n",
    "def clean_text(doc):\n",
    "    return ' '.join(\n",
    "        token.lemma_.lower() \n",
    "        for token in doc \n",
    "        if not token.is_stop and not token.is_punct\n",
    "    )\n",
    "\n",
    "\n",
    "cleaned_summaries = []\n",
    "for i in nlp.pipe(df['Summary'].values, batch_size=1000, n_process=4):\n",
    "    cleaned_summaries.append(clean_text(i))\n",
    "    \n",
    "\n",
    "df['Summary'] = cleaned_summaries\n",
    "del cleaned_summaries"
   ]
  },
  {
   "cell_type": "code",
   "execution_count": 18,
   "id": "02eddb97",
   "metadata": {},
   "outputs": [],
   "source": [
    "from gensim.models import Word2Vec, KeyedVectors\n",
    "from nltk.tokenize import word_tokenize\n",
    "import nltk"
   ]
  },
  {
   "cell_type": "code",
   "execution_count": 43,
   "id": "41b744b4",
   "metadata": {},
   "outputs": [],
   "source": [
    "nltk.download('punkt')\n",
    "nltk.download('punkt_tab')"
   ]
  },
  {
   "cell_type": "code",
   "execution_count": 22,
   "id": "c57a8860",
   "metadata": {},
   "outputs": [],
   "source": [
    "df['tokenize'] = df['Summary'].apply(word_tokenize)\n"
   ]
  },
  {
   "cell_type": "code",
   "execution_count": 19,
   "id": "85f933fc",
   "metadata": {},
   "outputs": [],
   "source": [
    "model_for_word_to_vec = KeyedVectors.load_word2vec_format('GoogleNews-vectors-negative300.bin.gz',binary=True,limit=500000)"
   ]
  },
  {
   "cell_type": "code",
   "execution_count": 20,
   "id": "26eeb3ff",
   "metadata": {},
   "outputs": [
    {
     "data": {
      "text/plain": [
       "[('Top', 0.698654294013977),\n",
       " ('topmost', 0.550675094127655),\n",
       " ('tops', 0.5368965268135071)]"
      ]
     },
     "execution_count": 20,
     "metadata": {},
     "output_type": "execute_result"
    }
   ],
   "source": [
    "model_for_word_to_vec.most_similar('top', topn=3)"
   ]
  },
  {
   "cell_type": "code",
   "execution_count": 23,
   "id": "a180ef06",
   "metadata": {},
   "outputs": [
    {
     "data": {
      "text/html": [
       "<div>\n",
       "<style scoped>\n",
       "    .dataframe tbody tr th:only-of-type {\n",
       "        vertical-align: middle;\n",
       "    }\n",
       "\n",
       "    .dataframe tbody tr th {\n",
       "        vertical-align: top;\n",
       "    }\n",
       "\n",
       "    .dataframe thead th {\n",
       "        text-align: right;\n",
       "    }\n",
       "</style>\n",
       "<table border=\"1\" class=\"dataframe\">\n",
       "  <thead>\n",
       "    <tr style=\"text-align: right;\">\n",
       "      <th></th>\n",
       "      <th>Rate</th>\n",
       "      <th>Review</th>\n",
       "      <th>Summary</th>\n",
       "      <th>Sentiment</th>\n",
       "      <th>Sentiment_label</th>\n",
       "      <th>tokenize</th>\n",
       "      <th>vector</th>\n",
       "    </tr>\n",
       "  </thead>\n",
       "  <tbody>\n",
       "    <tr>\n",
       "      <th>0</th>\n",
       "      <td>4</td>\n",
       "      <td>pretty good</td>\n",
       "      <td>awsm</td>\n",
       "      <td>positive</td>\n",
       "      <td>2</td>\n",
       "      <td>[awsm]</td>\n",
       "      <td>[0.0, 0.0, 0.0, 0.0, 0.0, 0.0, 0.0, 0.0, 0.0, ...</td>\n",
       "    </tr>\n",
       "    <tr>\n",
       "      <th>1</th>\n",
       "      <td>5</td>\n",
       "      <td>simply awesome</td>\n",
       "      <td>nice product hd picture</td>\n",
       "      <td>positive</td>\n",
       "      <td>2</td>\n",
       "      <td>[nice, product, hd, picture]</td>\n",
       "      <td>[-0.048339844, 0.15209961, -0.04272461, 0.0702...</td>\n",
       "    </tr>\n",
       "    <tr>\n",
       "      <th>2</th>\n",
       "      <td>5</td>\n",
       "      <td>worth every penny</td>\n",
       "      <td>super</td>\n",
       "      <td>positive</td>\n",
       "      <td>2</td>\n",
       "      <td>[super]</td>\n",
       "      <td>[0.096191406, 0.14746094, 0.091308594, 0.07812...</td>\n",
       "    </tr>\n",
       "    <tr>\n",
       "      <th>3</th>\n",
       "      <td>4</td>\n",
       "      <td>pretty good</td>\n",
       "      <td>good product nice price</td>\n",
       "      <td>positive</td>\n",
       "      <td>2</td>\n",
       "      <td>[good, product, nice, price]</td>\n",
       "      <td>[0.06970215, 0.059143066, -0.06442261, 0.17626...</td>\n",
       "    </tr>\n",
       "    <tr>\n",
       "      <th>4</th>\n",
       "      <td>5</td>\n",
       "      <td>terrific</td>\n",
       "      <td>good</td>\n",
       "      <td>positive</td>\n",
       "      <td>2</td>\n",
       "      <td>[good]</td>\n",
       "      <td>[0.040527344, 0.0625, -0.017456055, 0.07861328...</td>\n",
       "    </tr>\n",
       "    <tr>\n",
       "      <th>...</th>\n",
       "      <td>...</td>\n",
       "      <td>...</td>\n",
       "      <td>...</td>\n",
       "      <td>...</td>\n",
       "      <td>...</td>\n",
       "      <td>...</td>\n",
       "      <td>...</td>\n",
       "    </tr>\n",
       "    <tr>\n",
       "      <th>99995</th>\n",
       "      <td>2</td>\n",
       "      <td>expected a better product</td>\n",
       "      <td>smooth comfortable use</td>\n",
       "      <td>negative</td>\n",
       "      <td>0</td>\n",
       "      <td>[smooth, comfortable, use]</td>\n",
       "      <td>[0.04683431, 0.030192057, -0.123535156, 0.0171...</td>\n",
       "    </tr>\n",
       "    <tr>\n",
       "      <th>99996</th>\n",
       "      <td>5</td>\n",
       "      <td>fabulous!</td>\n",
       "      <td>s value money</td>\n",
       "      <td>positive</td>\n",
       "      <td>2</td>\n",
       "      <td>[s, value, money]</td>\n",
       "      <td>[-0.017740885, 0.08292643, 0.075276695, 0.1092...</td>\n",
       "    </tr>\n",
       "    <tr>\n",
       "      <th>99997</th>\n",
       "      <td>5</td>\n",
       "      <td>great product</td>\n",
       "      <td>nice</td>\n",
       "      <td>positive</td>\n",
       "      <td>2</td>\n",
       "      <td>[nice]</td>\n",
       "      <td>[0.15820312, 0.10595703, -0.18945312, 0.386718...</td>\n",
       "    </tr>\n",
       "    <tr>\n",
       "      <th>99998</th>\n",
       "      <td>5</td>\n",
       "      <td>not specified</td>\n",
       "      <td>good product</td>\n",
       "      <td>positive</td>\n",
       "      <td>2</td>\n",
       "      <td>[good, product]</td>\n",
       "      <td>[-0.010498047, 0.07885742, 0.058166504, 0.0717...</td>\n",
       "    </tr>\n",
       "    <tr>\n",
       "      <th>99999</th>\n",
       "      <td>3</td>\n",
       "      <td>nice</td>\n",
       "      <td>size small comparison cone smell good</td>\n",
       "      <td>positive</td>\n",
       "      <td>2</td>\n",
       "      <td>[size, small, comparison, cone, smell, good]</td>\n",
       "      <td>[0.11151123, 0.1011556, -0.040049236, 0.083165...</td>\n",
       "    </tr>\n",
       "  </tbody>\n",
       "</table>\n",
       "<p>99997 rows × 7 columns</p>\n",
       "</div>"
      ],
      "text/plain": [
       "       Rate                     Review                                Summary  \\\n",
       "0         4                pretty good                                   awsm   \n",
       "1         5             simply awesome                nice product hd picture   \n",
       "2         5          worth every penny                                  super   \n",
       "3         4                pretty good                good product nice price   \n",
       "4         5                   terrific                                   good   \n",
       "...     ...                        ...                                    ...   \n",
       "99995     2  expected a better product                 smooth comfortable use   \n",
       "99996     5                  fabulous!                          s value money   \n",
       "99997     5              great product                                   nice   \n",
       "99998     5              not specified                           good product   \n",
       "99999     3                       nice  size small comparison cone smell good   \n",
       "\n",
       "      Sentiment  Sentiment_label  \\\n",
       "0      positive                2   \n",
       "1      positive                2   \n",
       "2      positive                2   \n",
       "3      positive                2   \n",
       "4      positive                2   \n",
       "...         ...              ...   \n",
       "99995  negative                0   \n",
       "99996  positive                2   \n",
       "99997  positive                2   \n",
       "99998  positive                2   \n",
       "99999  positive                2   \n",
       "\n",
       "                                           tokenize  \\\n",
       "0                                            [awsm]   \n",
       "1                      [nice, product, hd, picture]   \n",
       "2                                           [super]   \n",
       "3                      [good, product, nice, price]   \n",
       "4                                            [good]   \n",
       "...                                             ...   \n",
       "99995                    [smooth, comfortable, use]   \n",
       "99996                             [s, value, money]   \n",
       "99997                                        [nice]   \n",
       "99998                               [good, product]   \n",
       "99999  [size, small, comparison, cone, smell, good]   \n",
       "\n",
       "                                                  vector  \n",
       "0      [0.0, 0.0, 0.0, 0.0, 0.0, 0.0, 0.0, 0.0, 0.0, ...  \n",
       "1      [-0.048339844, 0.15209961, -0.04272461, 0.0702...  \n",
       "2      [0.096191406, 0.14746094, 0.091308594, 0.07812...  \n",
       "3      [0.06970215, 0.059143066, -0.06442261, 0.17626...  \n",
       "4      [0.040527344, 0.0625, -0.017456055, 0.07861328...  \n",
       "...                                                  ...  \n",
       "99995  [0.04683431, 0.030192057, -0.123535156, 0.0171...  \n",
       "99996  [-0.017740885, 0.08292643, 0.075276695, 0.1092...  \n",
       "99997  [0.15820312, 0.10595703, -0.18945312, 0.386718...  \n",
       "99998  [-0.010498047, 0.07885742, 0.058166504, 0.0717...  \n",
       "99999  [0.11151123, 0.1011556, -0.040049236, 0.083165...  \n",
       "\n",
       "[99997 rows x 7 columns]"
      ]
     },
     "execution_count": 23,
     "metadata": {},
     "output_type": "execute_result"
    }
   ],
   "source": [
    "def rev_to_vec(tokens, model, vector_size=300):\n",
    "    vectors = []\n",
    "    for word in tokens:\n",
    "        if word in model:\n",
    "            vectors.append(model[word])\n",
    "    \n",
    "    if len(vectors)==0:\n",
    "        return np.zeros(vector_size)\n",
    "    \n",
    "    return np.mean(vectors, axis=0)\n",
    "\n",
    "df['vector'] = df['tokenize'].apply(lambda x: rev_to_vec(x, model_for_word_to_vec))\n",
    "\n",
    "df"
   ]
  },
  {
   "cell_type": "code",
   "execution_count": 53,
   "id": "7a3641a1",
   "metadata": {},
   "outputs": [
    {
     "name": "stdout",
     "output_type": "stream",
     "text": [
      "(99997, 300)\n",
      "<class 'numpy.ndarray'>\n",
      "<class 'numpy.ndarray'>\n"
     ]
    }
   ],
   "source": [
    "# apply the model\n",
    "\n",
    "x= np.array(df['vector'].tolist())\n",
    "y= df['Sentiment_label'].values\n",
    "print(x.shape)\n",
    "print(type(y))\n",
    "print(type(x))"
   ]
  },
  {
   "cell_type": "markdown",
   "id": "f171bea0",
   "metadata": {},
   "source": [
    "## KNN Model"
   ]
  },
  {
   "cell_type": "code",
   "execution_count": 74,
   "id": "984391d1",
   "metadata": {
    "scrolled": true
   },
   "outputs": [],
   "source": [
    "# applying knn model\n",
    "\n",
    "from sklearn.model_selection import train_test_split, KFold, cross_val_score\n",
    "from sklearn.neighbors import KNeighborsClassifier\n",
    "from sklearn.metrics import accuracy_score\n",
    "import matplotlib.pyplot as plt\n",
    "import seaborn as sns\n"
   ]
  },
  {
   "cell_type": "code",
   "execution_count": 54,
   "id": "a0a16a42",
   "metadata": {},
   "outputs": [
    {
     "data": {
      "text/plain": [
       "array([[-0.02929688,  0.05289714, -0.01882935, ...,  0.02360026,\n",
       "        -0.18847656, -0.00298055],\n",
       "       [ 0.14257812,  0.07226562,  0.03027344, ..., -0.14160156,\n",
       "         0.03442383, -0.15234375],\n",
       "       [ 0.04488118, -0.07906087, -0.10508219, ..., -0.05304972,\n",
       "        -0.03117243, -0.04699707],\n",
       "       ...,\n",
       "       [ 0.04052734,  0.0625    , -0.01745605, ..., -0.15625   ,\n",
       "         0.00193024, -0.06982422],\n",
       "       [ 0.04052734,  0.0625    , -0.01745605, ..., -0.15625   ,\n",
       "         0.00193024, -0.06982422],\n",
       "       [ 0.00274658,  0.04238892, -0.01010132, ..., -0.08013916,\n",
       "         0.00810528, -0.10496521]])"
      ]
     },
     "execution_count": 54,
     "metadata": {},
     "output_type": "execute_result"
    }
   ],
   "source": [
    "x_train, x_test, y_train, y_test = train_test_split(x,y, test_size=0.2, random_state=42)\n",
    "x_train"
   ]
  },
  {
   "cell_type": "code",
   "execution_count": 55,
   "id": "a7cc2e81",
   "metadata": {},
   "outputs": [
    {
     "name": "stdout",
     "output_type": "stream",
     "text": [
      "[0.89525    0.896      0.89625    0.89625    0.897625   0.89175\n",
      " 0.8905     0.89086136 0.89161145 0.89561195]\n",
      "0.8941709760595075\n"
     ]
    }
   ],
   "source": [
    "# using cross validation for knn(kfold)\n",
    "k=10\n",
    "kf = KFold(n_splits=k, shuffle=True, random_state=42)\n",
    "knn_model = KNeighborsClassifier(n_neighbors=10)\n",
    "scores = cross_val_score(knn_model, x_train, y_train, cv=kf, scoring= 'accuracy')\n",
    "print(scores)\n",
    "avg_acc = np.mean(scores)\n",
    "print(avg_acc)"
   ]
  },
  {
   "cell_type": "code",
   "execution_count": 99,
   "id": "13040b7f",
   "metadata": {},
   "outputs": [
    {
     "name": "stdout",
     "output_type": "stream",
     "text": [
      "the accuracy using KNN is-> 0.89285\n"
     ]
    }
   ],
   "source": [
    "# using k=3 \n",
    "knn_model= KNeighborsClassifier(n_neighbors=3)\n",
    "knn_model.fit(x_train, y_train)\n",
    "y_pred= knn_model.predict(x_test)\n",
    "y_pred\n",
    "accur = accuracy_score(y_test, y_pred)\n",
    "print(f\"the accuracy using KNN is-> {accur}\")\n"
   ]
  },
  {
   "cell_type": "code",
   "execution_count": 68,
   "id": "6cfd0afe",
   "metadata": {},
   "outputs": [
    {
     "data": {
      "image/png": "[encoded data removed]",
      "text/plain": [
       "<Figure size 800x600 with 1 Axes>"
      ]
     },
     "metadata": {},
     "output_type": "display_data"
    }
   ],
   "source": [
    "plt.figure(figsize= (8,6))\n",
    "plt.scatter(x_test[:,0], x_test[:,1], c = y_test, label= \"Actual\" )\n",
    "plt.scatter(x_test[:,0], x_test[:,1], c= y_pred, label = \"Predicted\", marker=\"x\")\n",
    "plt.legend()\n",
    "plt.title(\"Actual Vs Predicted\")\n",
    "plt.show()"
   ]
  },
  {
   "cell_type": "code",
   "execution_count": 100,
   "id": "bf9854ed",
   "metadata": {},
   "outputs": [
    {
     "data": {
      "image/png": "[encoded data removed]",
      "text/plain": [
       "<Figure size 640x480 with 2 Axes>"
      ]
     },
     "metadata": {},
     "output_type": "display_data"
    }
   ],
   "source": [
    "# confusion matrix for knn\n",
    "from sklearn.metrics import confusion_matrix, classification_report\n",
    "cm = confusion_matrix(y_test, y_pred)\n",
    "cmt = cm.T\n",
    "sns.heatmap(cmt, annot=True, fmt= 'd')\n",
    "plt.xlabel('True Labels')\n",
    "plt.ylabel('Predicted Lables')\n",
    "plt.show()"
   ]
  },
  {
   "cell_type": "code",
   "execution_count": 101,
   "id": "a2735418",
   "metadata": {},
   "outputs": [
    {
     "name": "stdout",
     "output_type": "stream",
     "text": [
      "              precision    recall  f1-score   support\n",
      "\n",
      "           0       0.73      0.60      0.66      2657\n",
      "           1       0.71      0.35      0.46       935\n",
      "           2       0.92      0.97      0.94     16408\n",
      "\n",
      "    accuracy                           0.89     20000\n",
      "   macro avg       0.79      0.64      0.69     20000\n",
      "weighted avg       0.88      0.89      0.88     20000\n",
      "\n"
     ]
    }
   ],
   "source": [
    "# classification report for KNN\n",
    "print(classification_report(y_test, y_pred))"
   ]
  },
  {
   "cell_type": "markdown",
   "id": "cccd7ce0",
   "metadata": {},
   "source": [
    "## Random Forest"
   ]
  },
  {
   "cell_type": "code",
   "execution_count": 102,
   "id": "67ef52d3",
   "metadata": {},
   "outputs": [
    {
     "name": "stdout",
     "output_type": "stream",
     "text": [
      "Accuracy score using Random Forest is 0.905\n"
     ]
    }
   ],
   "source": [
    "# using Random Forest\n",
    "from sklearn.ensemble import RandomForestClassifier\n",
    "x_train ,x_test, y_train, y_test = train_test_split(x,y,test_size=0.2, random_state=42)\n",
    "model = RandomForestClassifier(criterion='gini', n_estimators= 100, random_state=42)\n",
    "model.fit(x_train, y_train)\n",
    "\n",
    "y_pred= model.predict(x_test)\n",
    "score = accuracy_score(y_test, y_pred)\n",
    "print(f\"Accuracy score using Random Forest is {score}\")"
   ]
  },
  {
   "cell_type": "code",
   "execution_count": 103,
   "id": "f08db406",
   "metadata": {},
   "outputs": [
    {
     "data": {
      "text/plain": [
       "array([2, 0, 2, ..., 2, 2, 2])"
      ]
     },
     "execution_count": 103,
     "metadata": {},
     "output_type": "execute_result"
    }
   ],
   "source": [
    "y_pred"
   ]
  },
  {
   "cell_type": "code",
   "execution_count": 104,
   "id": "779c7198",
   "metadata": {},
   "outputs": [
    {
     "data": {
      "image/png": "[encoded data removed]",
      "text/plain": [
       "<Figure size 800x600 with 2 Axes>"
      ]
     },
     "metadata": {},
     "output_type": "display_data"
    }
   ],
   "source": [
    "from sklearn.metrics import confusion_matrix, classification_report\n",
    "# confusion matrix for random forest \n",
    "cm= confusion_matrix(y_test, y_pred)\n",
    "cmt = cm.T\n",
    "plt.figure(figsize=(8,6))\n",
    "sns.heatmap(cmt, annot=True, fmt='d', cmap='Blues')\n",
    "plt.xlabel('True Labels')\n",
    "plt.ylabel('Predicted Lables')\n",
    "plt.show()"
   ]
  },
  {
   "cell_type": "code",
   "execution_count": null,
   "id": "da9c3137",
   "metadata": {},
   "outputs": [],
   "source": []
  },
  {
   "cell_type": "code",
   "execution_count": 105,
   "id": "9d4192c0",
   "metadata": {},
   "outputs": [
    {
     "name": "stdout",
     "output_type": "stream",
     "text": [
      "              precision    recall  f1-score   support\n",
      "\n",
      "           0       0.82      0.61      0.70      2657\n",
      "           1       0.77      0.37      0.50       935\n",
      "           2       0.92      0.98      0.95     16408\n",
      "\n",
      "    accuracy                           0.91     20000\n",
      "   macro avg       0.84      0.65      0.72     20000\n",
      "weighted avg       0.90      0.91      0.90     20000\n",
      "\n"
     ]
    }
   ],
   "source": [
    "# classification report for random forest\n",
    "print(classification_report(y_test, y_pred))"
   ]
  },
  {
   "cell_type": "markdown",
   "id": "b87e4caf",
   "metadata": {},
   "source": [
    "## Logistic Regression"
   ]
  },
  {
   "cell_type": "code",
   "execution_count": 89,
   "id": "95d4a7a2",
   "metadata": {},
   "outputs": [
    {
     "name": "stderr",
     "output_type": "stream",
     "text": [
      "C:\\Users\\hiteshlalwani\\anaconda3\\lib\\site-packages\\sklearn\\linear_model\\_logistic.py:1247: FutureWarning: 'multi_class' was deprecated in version 1.5 and will be removed in 1.7. From then on, it will always use 'multinomial'. Leave it to its default value to avoid this warning.\n",
      "  warnings.warn(\n"
     ]
    },
    {
     "name": "stdout",
     "output_type": "stream",
     "text": [
      "The accuracy using logistic regression is->  0.8157\n"
     ]
    }
   ],
   "source": [
    "from sklearn.linear_model import LogisticRegression\n",
    "model = LogisticRegression(multi_class = 'multinomial', solver= 'lbfgs', max_iter=1000, class_weight='balanced')\n",
    "model.fit(x_train, y_train)\n",
    "y_pred = model.predict(x_test)\n",
    "acc_score = accuracy_score(y_test, y_pred)\n",
    "print(\"The accuracy using logistic regression is-> \",acc_score)"
   ]
  },
  {
   "cell_type": "code",
   "execution_count": 92,
   "id": "045ed1b9",
   "metadata": {},
   "outputs": [
    {
     "name": "stdout",
     "output_type": "stream",
     "text": [
      "              precision    recall  f1-score   support\n",
      "\n",
      "           0       0.60      0.76      0.67      2657\n",
      "           1       0.24      0.65      0.35       935\n",
      "           2       0.97      0.83      0.90     16408\n",
      "\n",
      "    accuracy                           0.82     20000\n",
      "   macro avg       0.60      0.75      0.64     20000\n",
      "weighted avg       0.89      0.82      0.84     20000\n",
      "\n"
     ]
    }
   ],
   "source": [
    "# classification report for logistic regression \n",
    "print(classification_report(y_test, y_pred))"
   ]
  },
  {
   "cell_type": "markdown",
   "id": "3571fd9b",
   "metadata": {},
   "source": [
    "## XGBoost Classifier"
   ]
  },
  {
   "cell_type": "code",
   "execution_count": 106,
   "id": "d0aa4139",
   "metadata": {},
   "outputs": [
    {
     "name": "stderr",
     "output_type": "stream",
     "text": [
      "C:\\Users\\hiteshlalwani\\anaconda3\\lib\\site-packages\\xgboost\\core.py:158: UserWarning: [13:36:40] WARNING: C:\\buildkite-agent\\builds\\buildkite-windows-cpu-autoscaling-group-i-0c55ff5f71b100e98-1\\xgboost\\xgboost-ci-windows\\src\\learner.cc:740: \n",
      "Parameters: { \"colsample_bytes\" } are not used.\n",
      "\n",
      "  warnings.warn(smsg, UserWarning)\n"
     ]
    },
    {
     "name": "stdout",
     "output_type": "stream",
     "text": [
      "the accuracy score using XGBoost is 0.9108\n"
     ]
    }
   ],
   "source": [
    "from xgboost import XGBClassifier\n",
    "model = XGBClassifier(\n",
    "        objective='multi:softmax',\n",
    "        num_class = 3,\n",
    "        n_estimators=100,\n",
    "        max_depth=6,\n",
    "        learning_rate=0.1,\n",
    "        subsample=0.8,\n",
    "        colsample_bytes= 0.8,\n",
    "        random_state= 42\n",
    ")\n",
    "\n",
    "model.fit(x_train, y_train)\n",
    "y_pred = model.predict(x_test)\n",
    "score = accuracy_score(y_test, y_pred)\n",
    "print(f\"the accuracy score using XGBoost is {score}\")"
   ]
  },
  {
   "cell_type": "code",
   "execution_count": 107,
   "id": "96de28a2",
   "metadata": {},
   "outputs": [
    {
     "data": {
      "image/png": "[encoded data removed]",
      "text/plain": [
       "<Figure size 800x600 with 2 Axes>"
      ]
     },
     "metadata": {},
     "output_type": "display_data"
    }
   ],
   "source": [
    "# confusion matrix of XGboost\n",
    "\n",
    "cm= confusion_matrix(y_test, y_pred)\n",
    "cmt = cm.T\n",
    "plt.figure(figsize=(8,6))\n",
    "sns.heatmap(cmt, annot=True, fmt='d', cmap='Blues')\n",
    "plt.xlabel('True Labels')\n",
    "plt.ylabel('Predicted Lables')\n",
    "plt.show()"
   ]
  },
  {
   "cell_type": "code",
   "execution_count": 108,
   "id": "31ac25e8",
   "metadata": {},
   "outputs": [
    {
     "name": "stdout",
     "output_type": "stream",
     "text": [
      "              precision    recall  f1-score   support\n",
      "\n",
      "           0       0.80      0.67      0.73      2657\n",
      "           1       0.76      0.38      0.51       935\n",
      "           2       0.93      0.98      0.95     16408\n",
      "\n",
      "    accuracy                           0.91     20000\n",
      "   macro avg       0.83      0.68      0.73     20000\n",
      "weighted avg       0.90      0.91      0.90     20000\n",
      "\n"
     ]
    }
   ],
   "source": [
    "# classification report of xgboost\n",
    "print(classification_report(y_test, y_pred))"
   ]
  },
  {
   "cell_type": "code",
   "execution_count": 110,
   "id": "d83b32a7",
   "metadata": {},
   "outputs": [
    {
     "data": {
      "text/plain": [
       "array([2, 0, 2, ..., 2, 2, 2])"
      ]
     },
     "execution_count": 110,
     "metadata": {},
     "output_type": "execute_result"
    }
   ],
   "source": [
    "y_pred"
   ]
  },
  {
   "cell_type": "markdown",
   "id": "d878adbc",
   "metadata": {},
   "source": [
    "## Storing the model using pickle "
   ]
  },
  {
   "cell_type": "code",
   "execution_count": 109,
   "id": "03a466f9",
   "metadata": {},
   "outputs": [],
   "source": [
    "import pickle\n",
    "pickle.dump(model, open('Review_sentiment.pkl', 'wb'))"
   ]
  }
 ],
 "metadata": {
  "kernelspec": {
   "display_name": "Python 3 (ipykernel)",
   "language": "python",
   "name": "python3"
  },
  "language_info": {
   "codemirror_mode": {
    "name": "ipython",
    "version": 3
   },
   "file_extension": ".py",
   "mimetype": "text/x-python",
   "name": "python",
   "nbconvert_exporter": "python",
   "pygments_lexer": "ipython3",
   "version": "3.9.13"
  }
 },
 "nbformat": 4,
 "nbformat_minor": 5
}
